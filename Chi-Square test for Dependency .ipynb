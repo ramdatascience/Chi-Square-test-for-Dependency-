{
 "cells": [
  {
   "cell_type": "markdown",
   "metadata": {},
   "source": [
    "# Chi-Square Test for Dependency between categorical variables\n"
   ]
  },
  {
   "cell_type": "markdown",
   "metadata": {},
   "source": [
    "***\n",
    "A most common problem we come across **Machine learning** is determining whether input features are relevant to the outcome to be predicted. This is the problem of feature selection. \n",
    "***\n",
    "\n",
    " In the case of classification problems where input variables are also categorical, we can use statistical tests to determine whether the output variable is dependent or independent of the input variables\n",
    " \n",
    " “ Categorical variable is a variable that can take on one of a limited, and usually fixed, number of possible values.”\n",
    " \n",
    "The Chi-Squared test is a statistical hypothesis test that assumes (the null hypothesis) that the **observed frequencies** for a categorical variable match the **expected frequencies** for the categorical variable. The Chi-Squared test does this for a contingency table, first calculating the expected frequencies for the groups, then determining whether the division of the groups, called the observed frequencies, matches the expected frequencies.\n",
    "    \n",
    " The **result** of the test is a **test statistic** that has a chi-squared distribution and can be interpreted to reject or fail to reject the assumption or null hypothesis that the observed and expected frequencies are the same.\n",
    "    \n",
    "   When observed frequency is far from the expected frequency, the corresponding term in the sum is large; when the two are close, this term is small. Large values of **Chi-square** indicate that observed and expected frequencies are far apart. Small values of **Chi-square** mean the opposite: observed are close to expected. \n",
    "   \n",
    "***“ The variables are considered independent if the observed and expected frequencies are similar, that the levels of the variables do not interact, are not dependent. “***\n",
    " we can interpret the dependency of the variables  in two ways\n",
    " \n",
    "1.\tUsing test statistic\n",
    "2.\tUsing P-value\n",
    "\n",
    "**1.Using Test-statistic :**\n",
    "\n",
    "We can interpret the test statistic in the context of the chi-squared distribution with the requisite number of degress of freedom as follows: \n",
    "\n",
    "•\t**If Statistic >= Critical Value:** significant result, reject null hypothesis (H0), dependent.\n",
    "\n",
    "•\t**If Statistic < Critical Value:** not significant result, fail to reject null hypothesis (H0), independent.\n",
    "\n",
    " The degrees of freedom for the chi-squared distribution is calculated based on the size of the contingency table as:\n",
    "degrees of freedom: (rows - 1) * (cols - 1)\n",
    "\n",
    "**2.Using P-value**\n",
    "\n",
    "In terms of a p-value and a chosen significance level (alpha), the test can be interpreted as follows:\n",
    "\n",
    "•\t**If p-value <= alpha:** significant result, reject null hypothesis (H0), dependent.\n",
    "\n",
    "•\t**If p-value > alpha:** not significant result, fail to reject null hypothesis (H0), independent.\n",
    "\n",
    "For the test to be effective, at least five observations are required in each cell of the contingency table.\n",
    "\n",
    "\n",
    "***\n"
   ]
  },
  {
   "cell_type": "code",
   "execution_count": 7,
   "metadata": {},
   "outputs": [],
   "source": [
    "# chi-squared test with similar proportions\n",
    "from scipy.stats import chi2_contingency\n",
    "from scipy.stats import chi2"
   ]
  },
  {
   "cell_type": "code",
   "execution_count": 8,
   "metadata": {},
   "outputs": [
    {
     "name": "stdout",
     "output_type": "stream",
     "text": [
      "[[60, 54, 46, 41], [40, 44, 53, 57]]\n"
     ]
    }
   ],
   "source": [
    "#sample contigency table\n",
    "# contingency table\n",
    "table = [[60,54,46,41 ],\n",
    "        [40,44,53,57]]\n",
    "print(table)"
   ]
  },
  {
   "cell_type": "code",
   "execution_count": 9,
   "metadata": {},
   "outputs": [
    {
     "name": "stdout",
     "output_type": "stream",
     "text": [
      "dof=3\n",
      "[[50.88607595 49.86835443 50.37721519 49.86835443]\n",
      " [49.11392405 48.13164557 48.62278481 48.13164557]]\n"
     ]
    }
   ],
   "source": [
    "#calculating the Satistics, P-value , Degree of Freedom and Expected value\n",
    "stat, p, dof, expected = chi2_contingency(table)\n",
    "print('dof=%d' % dof)\n",
    "print(expected)"
   ]
  },
  {
   "cell_type": "code",
   "execution_count": 10,
   "metadata": {},
   "outputs": [
    {
     "name": "stdout",
     "output_type": "stream",
     "text": [
      "probability=0.950, critical=7.815, stat=8.006\n",
      "Dependent (reject H0)\n"
     ]
    }
   ],
   "source": [
    "# interpret  Using test-statistic\n",
    "prob = 0.95\n",
    "critical = chi2.ppf(prob, dof)\n",
    "print('probability=%.3f, critical=%.3f, stat=%.3f' % (prob, critical, stat))\n",
    "if abs(stat) >= critical:\n",
    "    print('Dependent (reject H0)')\n",
    "else:\n",
    "    print('Independent (fail to reject H0)')"
   ]
  },
  {
   "cell_type": "code",
   "execution_count": 11,
   "metadata": {},
   "outputs": [
    {
     "name": "stdout",
     "output_type": "stream",
     "text": [
      "significance=0.050, p=0.046\n",
      "Dependent (reject H0)\n"
     ]
    }
   ],
   "source": [
    "# interpret using p-value\n",
    "alpha = 1.0 - prob\n",
    "print('significance=%.3f, p=%.3f' % (alpha, p))\n",
    "if p <= alpha:\n",
    "    print('Dependent (reject H0)')\n",
    "else:\n",
    "    print('Independent (fail to reject H0)')"
   ]
  },
  {
   "cell_type": "code",
   "execution_count": null,
   "metadata": {},
   "outputs": [],
   "source": []
  }
 ],
 "metadata": {
  "kernelspec": {
   "display_name": "Python 3",
   "language": "python",
   "name": "python3"
  },
  "language_info": {
   "codemirror_mode": {
    "name": "ipython",
    "version": 3
   },
   "file_extension": ".py",
   "mimetype": "text/x-python",
   "name": "python",
   "nbconvert_exporter": "python",
   "pygments_lexer": "ipython3",
   "version": "3.7.3"
  }
 },
 "nbformat": 4,
 "nbformat_minor": 4
}
